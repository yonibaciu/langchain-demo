{
 "cells": [
  {
   "cell_type": "code",
   "execution_count": null,
   "metadata": {},
   "outputs": [],
   "source": [
    "import os\n",
    "import openai\n",
    "import sys\n",
    "sys.path.append('../..')\n",
    "\n",
    "from dotenv import load_dotenv, find_dotenv\n",
    "_ = load_dotenv(find_dotenv()) # read local .env file\n",
    "\n",
    "openai.api_key = os.environ['OPENAI_API_KEY']"
   ]
  },
  {
   "cell_type": "code",
   "execution_count": null,
   "metadata": {},
   "outputs": [],
   "source": [
    "from langchain.document_loaders import PyPDFLoader\n",
    "\n",
    "# Load PDF\n",
    "loaders = [\n",
    "    # Duplicate documents on purpose - messy data\n",
    "    PyPDFLoader(\"docs/cnn article.pdf\"),\n",
    "    PyPDFLoader(\"docs/cnn article.pdf\"),\n",
    "    PyPDFLoader(\"docs/nytimes article 1.pdf\"),\n",
    "    PyPDFLoader(\"docs/nytimes article 2.pdf\")\n",
    "]\n",
    "docs = []\n",
    "for loader in loaders:\n",
    "    docs.extend(loader.load())"
   ]
  },
  {
   "cell_type": "code",
   "execution_count": null,
   "metadata": {},
   "outputs": [],
   "source": [
    "# Split\n",
    "from langchain.text_splitter import RecursiveCharacterTextSplitter\n",
    "text_splitter = RecursiveCharacterTextSplitter(\n",
    "    chunk_size = 1500,\n",
    "    chunk_overlap = 150\n",
    ")"
   ]
  },
  {
   "cell_type": "code",
   "execution_count": null,
   "metadata": {},
   "outputs": [],
   "source": [
    "splits = text_splitter.split_documents(docs)"
   ]
  },
  {
   "cell_type": "code",
   "execution_count": null,
   "metadata": {},
   "outputs": [],
   "source": [
    "len(splits)"
   ]
  },
  {
   "attachments": {},
   "cell_type": "markdown",
   "metadata": {},
   "source": [
    "### Embeddings"
   ]
  },
  {
   "cell_type": "code",
   "execution_count": null,
   "metadata": {},
   "outputs": [],
   "source": [
    "from langchain_openai import OpenAIEmbeddings\n",
    "embedding = OpenAIEmbeddings()"
   ]
  },
  {
   "cell_type": "code",
   "execution_count": null,
   "metadata": {},
   "outputs": [],
   "source": [
    "sentence1 = \"i like dogs\"\n",
    "sentence2 = \"i like canines\"\n",
    "sentence3 = \"the weather is ugly outside\""
   ]
  },
  {
   "cell_type": "code",
   "execution_count": null,
   "metadata": {},
   "outputs": [],
   "source": [
    "embedding1 = embedding.embed_query(sentence1)\n",
    "embedding2 = embedding.embed_query(sentence2)\n",
    "embedding3 = embedding.embed_query(sentence3)"
   ]
  },
  {
   "cell_type": "code",
   "execution_count": 11,
   "metadata": {},
   "outputs": [],
   "source": [
    "import numpy as np"
   ]
  },
  {
   "cell_type": "code",
   "execution_count": 12,
   "metadata": {},
   "outputs": [
    {
     "data": {
      "text/plain": [
       "0.9631675619330522"
      ]
     },
     "execution_count": 12,
     "metadata": {},
     "output_type": "execute_result"
    }
   ],
   "source": [
    "np.dot(embedding1, embedding2)"
   ]
  },
  {
   "cell_type": "code",
   "execution_count": 13,
   "metadata": {},
   "outputs": [
    {
     "data": {
      "text/plain": [
       "0.7710630976675937"
      ]
     },
     "execution_count": 13,
     "metadata": {},
     "output_type": "execute_result"
    }
   ],
   "source": [
    "np.dot(embedding1, embedding3)"
   ]
  },
  {
   "cell_type": "code",
   "execution_count": 14,
   "metadata": {},
   "outputs": [
    {
     "data": {
      "text/plain": [
       "0.7596682675219122"
      ]
     },
     "execution_count": 14,
     "metadata": {},
     "output_type": "execute_result"
    }
   ],
   "source": [
    "np.dot(embedding2, embedding3)"
   ]
  },
  {
   "attachments": {},
   "cell_type": "markdown",
   "metadata": {},
   "source": [
    "## Vectorstores"
   ]
  },
  {
   "cell_type": "code",
   "execution_count": 30,
   "metadata": {},
   "outputs": [],
   "source": [
    "# ! pip install chromadb\n",
    "from langchain.vectorstores import Chroma"
   ]
  },
  {
   "cell_type": "code",
   "execution_count": 16,
   "metadata": {},
   "outputs": [],
   "source": [
    "persist_directory = 'docs/chroma/'"
   ]
  },
  {
   "cell_type": "code",
   "execution_count": 17,
   "metadata": {},
   "outputs": [],
   "source": [
    "!rm -rf ./docs/chroma  # remove old database files if any"
   ]
  },
  {
   "cell_type": "code",
   "execution_count": 18,
   "metadata": {},
   "outputs": [],
   "source": [
    "vectordb = Chroma.from_documents(\n",
    "    documents=splits,\n",
    "    embedding=embedding,\n",
    "    persist_directory=persist_directory\n",
    ")"
   ]
  },
  {
   "cell_type": "code",
   "execution_count": 31,
   "metadata": {},
   "outputs": [
    {
     "name": "stdout",
     "output_type": "stream",
     "text": [
      "38\n"
     ]
    }
   ],
   "source": [
    "print(vectordb._collection.count())"
   ]
  },
  {
   "attachments": {},
   "cell_type": "markdown",
   "metadata": {},
   "source": [
    "### Similarity Search"
   ]
  },
  {
   "cell_type": "code",
   "execution_count": 23,
   "metadata": {},
   "outputs": [],
   "source": [
    "question = \"is there a quick and easy skillet dinner?\""
   ]
  },
  {
   "cell_type": "code",
   "execution_count": 24,
   "metadata": {},
   "outputs": [],
   "source": [
    "docs = vectordb.similarity_search(question,k=3)"
   ]
  },
  {
   "cell_type": "code",
   "execution_count": 25,
   "metadata": {},
   "outputs": [
    {
     "data": {
      "text/plain": [
       "3"
      ]
     },
     "execution_count": 25,
     "metadata": {},
     "output_type": "execute_result"
    }
   ],
   "source": [
    "len(docs)"
   ]
  },
  {
   "cell_type": "code",
   "execution_count": 26,
   "metadata": {},
   "outputs": [
    {
     "data": {
      "text/plain": [
       "'Cheesy\\nGreen\\nChile\\nBean\\nBake\\nBy\\nAli\\nSlagle\\nUpdated\\nJan.\\n22,\\n2024\\nKerri\\nBrewer\\nfor\\nThe\\nNew\\nYork\\nTimes.\\nFood\\nStylist:\\nBarrett\\nWashburne.\\nTotal\\nTime\\n25\\nminutes\\nPrep\\nTime\\n10\\nminutes\\nCook\\nTime\\n15\\nminutes\\nRating\\n4(937)\\nNotes\\nRead\\n126\\ncommunity\\nnotes\\nThis\\nquick\\nand\\neasy\\nskillet\\ndinner\\nis\\nsomewhere\\nbetween\\nan\\neasy\\ntake\\non\\nenchiladas\\nverdes\\n(no\\nrolling\\nrequired)\\nand\\na\\ncomplete-meal\\nrendition\\nof\\nchile\\ncon\\nqueso\\n.\\nThe\\nbase\\nis\\na\\nmixture\\nof\\ncharred\\ngreen\\nchiles,\\npinto\\nbeans\\nand\\nstore-bought\\nor\\nhomemade\\nsalsa\\nverde\\n,\\nwhich\\ndelivers\\nthe\\nbrightness\\nof\\ntomatillos,\\nchiles,\\ncilantro\\nand\\nlime.\\nBlanket\\nthe\\nbean-and-chile\\nmixture\\nwith\\nMonterey\\nJack\\ncheese,\\nthen\\nbroil\\nuntil\\nmolten.\\nServe\\nwith\\ntortillas,\\ntortilla\\nchips,\\nrice,\\na\\nbaked\\nsweet\\npotato\\nor\\nfried\\neggs.\\nYou\\ncould\\nalso\\nadd\\nMexican\\nchorizo,\\nbacon\\nor\\nspinach\\nwith\\nthe\\nchiles,\\nor\\nleftover\\npulled\\nchicken\\nwith\\nthe\\nbeans.'"
      ]
     },
     "execution_count": 26,
     "metadata": {},
     "output_type": "execute_result"
    }
   ],
   "source": [
    "docs[0].page_content"
   ]
  },
  {
   "cell_type": "code",
   "execution_count": 27,
   "metadata": {},
   "outputs": [],
   "source": [
    "vectordb.persist()"
   ]
  },
  {
   "attachments": {},
   "cell_type": "markdown",
   "metadata": {},
   "source": [
    "### Failure modes"
   ]
  },
  {
   "cell_type": "code",
   "execution_count": 32,
   "metadata": {},
   "outputs": [],
   "source": [
    "question = \"retaliatory strikes came in response to a drone strike?\""
   ]
  },
  {
   "cell_type": "code",
   "execution_count": 33,
   "metadata": {},
   "outputs": [],
   "source": [
    "docs = vectordb.similarity_search(question,k=5)"
   ]
  },
  {
   "attachments": {},
   "cell_type": "markdown",
   "metadata": {},
   "source": [
    "There are duplicates because we loaded the cnn article twice:"
   ]
  },
  {
   "cell_type": "code",
   "execution_count": 34,
   "metadata": {},
   "outputs": [
    {
     "data": {
      "text/plain": [
       "Document(page_content='The\\nUS\\nconducted\\nmajor\\nairstrikes\\non\\n85\\ntargets\\nin\\nIraq\\nand\\nSyria\\non\\nFriday,\\nthe\\nstart\\nof\\nwhat\\nwill\\nlikely\\nbe\\na\\nseries\\nof\\nlarger-scale\\nUS\\nstrikes\\non\\nIranian-backed\\nmilitias\\nwho\\nhave\\ncarried\\nout\\nattacks\\non\\nUS\\ntroops\\nin\\nthe\\nMiddle\\nEast.\\nThe\\nretaliatory\\nstrikes\\ncame\\nin\\nresponse\\nto\\na\\ndrone\\nstrike\\nby\\nIran-backed\\nmilitants\\non\\na\\nUS\\nmilitary\\noutpost\\nin\\nJordan\\non\\nSunday,\\nwhich\\nkilled\\nthree\\nUS\\nservice\\nmembers\\nand\\nwounded\\nmore\\nthan\\n40\\nothers.\\nUS\\nCentral\\nCommand\\nconfirmed\\nin\\na\\nstatement\\nthat\\nairstrikes\\nwere\\ncarried\\nout\\nin\\nIraq\\nand\\nSyria\\n“against\\nIran’s\\nIslamic\\nRevolutionary\\nGuards\\nCorps\\n(IRGC)\\nQuds\\nForce\\nand\\naffiliated\\nmilitia\\ngroups.”\\n“U.S.\\nmilitary\\nforces\\nstruck\\nmore\\nthan\\n85\\ntargets,\\nwith\\nnumerous\\naircraft\\nto\\ninclude\\nlong-range\\nbombers\\nflown\\nfrom\\nUnited\\nStates.\\nThe\\nairstrikes\\nemployed\\nmore\\nthan\\n125\\nprecision\\nmunitions,”\\nthe\\nstatement\\nsaid.\\n“The\\nfacilities\\nthat\\nwere\\nstruck\\nincluded\\ncommand\\nand\\ncontrol\\noperations,\\ncenters,\\nintelligence\\ncenters,\\nrockets,\\nand\\nmissiles,\\nand\\nunmanned\\naerial\\nvehicle\\nstorages,\\nand\\nlogistics\\nand\\nmunition\\nsupply\\nchain\\nfacilities\\nof\\nmilitia\\ngroups\\nand\\ntheir\\nIRGC\\nsponsors\\nwho\\nfacilitated\\nattacks\\nagainst\\nU.S.\\nand\\nCoalition\\nforces,”\\nthe\\nstatement\\nadded.\\nThe\\nstrikes\\ntook\\nplace\\nsoon\\nafter\\nPresident\\nJoe\\nBiden\\nattended\\na\\ndignified\\ntransfer\\nand\\nmet\\nfamily\\nmembers\\nof\\nthe\\nsoldiers\\nkilled\\nin\\nJordan.\\nThe\\nstrikes\\non\\nFriday\\nwere\\nmarkedly\\nmore\\nsignificant\\nthan\\nprevious\\nattacks\\non\\nIranian-backed\\nmilitias\\nover\\nthe\\nlast\\nseveral\\nweeks,\\nwhich\\nhave\\nprimarily\\nfocused\\non\\nweapons', metadata={'page': 0, 'source': 'docs/cnn article.pdf'})"
      ]
     },
     "execution_count": 34,
     "metadata": {},
     "output_type": "execute_result"
    }
   ],
   "source": [
    "docs[0]"
   ]
  },
  {
   "cell_type": "code",
   "execution_count": 35,
   "metadata": {},
   "outputs": [
    {
     "data": {
      "text/plain": [
       "Document(page_content='The\\nUS\\nconducted\\nmajor\\nairstrikes\\non\\n85\\ntargets\\nin\\nIraq\\nand\\nSyria\\non\\nFriday,\\nthe\\nstart\\nof\\nwhat\\nwill\\nlikely\\nbe\\na\\nseries\\nof\\nlarger-scale\\nUS\\nstrikes\\non\\nIranian-backed\\nmilitias\\nwho\\nhave\\ncarried\\nout\\nattacks\\non\\nUS\\ntroops\\nin\\nthe\\nMiddle\\nEast.\\nThe\\nretaliatory\\nstrikes\\ncame\\nin\\nresponse\\nto\\na\\ndrone\\nstrike\\nby\\nIran-backed\\nmilitants\\non\\na\\nUS\\nmilitary\\noutpost\\nin\\nJordan\\non\\nSunday,\\nwhich\\nkilled\\nthree\\nUS\\nservice\\nmembers\\nand\\nwounded\\nmore\\nthan\\n40\\nothers.\\nUS\\nCentral\\nCommand\\nconfirmed\\nin\\na\\nstatement\\nthat\\nairstrikes\\nwere\\ncarried\\nout\\nin\\nIraq\\nand\\nSyria\\n“against\\nIran’s\\nIslamic\\nRevolutionary\\nGuards\\nCorps\\n(IRGC)\\nQuds\\nForce\\nand\\naffiliated\\nmilitia\\ngroups.”\\n“U.S.\\nmilitary\\nforces\\nstruck\\nmore\\nthan\\n85\\ntargets,\\nwith\\nnumerous\\naircraft\\nto\\ninclude\\nlong-range\\nbombers\\nflown\\nfrom\\nUnited\\nStates.\\nThe\\nairstrikes\\nemployed\\nmore\\nthan\\n125\\nprecision\\nmunitions,”\\nthe\\nstatement\\nsaid.\\n“The\\nfacilities\\nthat\\nwere\\nstruck\\nincluded\\ncommand\\nand\\ncontrol\\noperations,\\ncenters,\\nintelligence\\ncenters,\\nrockets,\\nand\\nmissiles,\\nand\\nunmanned\\naerial\\nvehicle\\nstorages,\\nand\\nlogistics\\nand\\nmunition\\nsupply\\nchain\\nfacilities\\nof\\nmilitia\\ngroups\\nand\\ntheir\\nIRGC\\nsponsors\\nwho\\nfacilitated\\nattacks\\nagainst\\nU.S.\\nand\\nCoalition\\nforces,”\\nthe\\nstatement\\nadded.\\nThe\\nstrikes\\ntook\\nplace\\nsoon\\nafter\\nPresident\\nJoe\\nBiden\\nattended\\na\\ndignified\\ntransfer\\nand\\nmet\\nfamily\\nmembers\\nof\\nthe\\nsoldiers\\nkilled\\nin\\nJordan.\\nThe\\nstrikes\\non\\nFriday\\nwere\\nmarkedly\\nmore\\nsignificant\\nthan\\nprevious\\nattacks\\non\\nIranian-backed\\nmilitias\\nover\\nthe\\nlast\\nseveral\\nweeks,\\nwhich\\nhave\\nprimarily\\nfocused\\non\\nweapons', metadata={'page': 0, 'source': 'docs/cnn article.pdf'})"
      ]
     },
     "execution_count": 35,
     "metadata": {},
     "output_type": "execute_result"
    }
   ],
   "source": [
    "docs[1]"
   ]
  }
 ],
 "metadata": {
  "kernelspec": {
   "display_name": "Python 3",
   "language": "python",
   "name": "python3"
  },
  "language_info": {
   "codemirror_mode": {
    "name": "ipython",
    "version": 3
   },
   "file_extension": ".py",
   "mimetype": "text/x-python",
   "name": "python",
   "nbconvert_exporter": "python",
   "pygments_lexer": "ipython3",
   "version": "3.12.1"
  },
  "orig_nbformat": 4
 },
 "nbformat": 4,
 "nbformat_minor": 2
}
